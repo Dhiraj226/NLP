{
  "metadata": {
    "kernelspec": {
      "language": "python",
      "display_name": "Python 3",
      "name": "python3"
    },
    "language_info": {
      "name": "python",
      "version": "3.10.12",
      "mimetype": "text/x-python",
      "codemirror_mode": {
        "name": "ipython",
        "version": 3
      },
      "pygments_lexer": "ipython3",
      "nbconvert_exporter": "python",
      "file_extension": ".py"
    },
    "kaggle": {
      "accelerator": "none",
      "dataSources": [
        {
          "sourceId": 320111,
          "sourceType": "datasetVersion",
          "datasetId": 134715
        }
      ],
      "dockerImageVersionId": 30918,
      "isInternetEnabled": false,
      "language": "python",
      "sourceType": "notebook",
      "isGpuEnabled": false
    },
    "colab": {
      "name": "notebooke9a64c6b10",
      "provenance": []
    }
  },
  "nbformat_minor": 0,
  "nbformat": 4,
  "cells": [
    {
      "source": [
        "# IMPORTANT: RUN THIS CELL IN ORDER TO IMPORT YOUR KAGGLE DATA SOURCES,\n",
        "# THEN FEEL FREE TO DELETE THIS CELL.\n",
        "# NOTE: THIS NOTEBOOK ENVIRONMENT DIFFERS FROM KAGGLE'S PYTHON\n",
        "# ENVIRONMENT SO THERE MAY BE MISSING LIBRARIES USED BY YOUR\n",
        "# NOTEBOOK.\n",
        "import kagglehub\n",
        "lakshmi25npathi_imdb_dataset_of_50k_movie_reviews_path = kagglehub.dataset_download('lakshmi25npathi/imdb-dataset-of-50k-movie-reviews')\n",
        "\n",
        "print('Data source import complete.')\n"
      ],
      "metadata": {
        "id": "bpENZG4TJgBl"
      },
      "cell_type": "code",
      "outputs": [],
      "execution_count": null
    },
    {
      "cell_type": "code",
      "source": [
        "# This Python 3 environment comes with many helpful analytics libraries installed\n",
        "# It is defined by the kaggle/python Docker image: https://github.com/kaggle/docker-python\n",
        "# For example, here's several helpful packages to load\n",
        "\n",
        "import numpy as np # linear algebra\n",
        "import pandas as pd # data processing, CSV file I/O (e.g. pd.read_csv)\n",
        "\n",
        "# Input data files are available in the read-only \"../input/\" directory\n",
        "# For example, running this (by clicking run or pressing Shift+Enter) will list all files under the input directory\n",
        "\n",
        "import os\n",
        "for dirname, _, filenames in os.walk('/kaggle/input'):\n",
        "    for filename in filenames:\n",
        "        print(os.path.join(dirname, filename))\n",
        "\n",
        "# You can write up to 20GB to the current directory (/kaggle/working/) that gets preserved as output when you create a version using \"Save & Run All\"\n",
        "# You can also write temporary files to /kaggle/temp/, but they won't be saved outside of the current session"
      ],
      "metadata": {
        "_uuid": "8f2839f25d086af736a60e9eeb907d3b93b6e0e5",
        "_cell_guid": "b1076dfc-b9ad-4769-8c92-a6c4dae69d19",
        "trusted": true,
        "execution": {
          "iopub.status.busy": "2025-03-19T14:55:37.522307Z",
          "iopub.execute_input": "2025-03-19T14:55:37.522716Z",
          "iopub.status.idle": "2025-03-19T14:55:38.313167Z",
          "shell.execute_reply.started": "2025-03-19T14:55:37.522633Z",
          "shell.execute_reply": "2025-03-19T14:55:38.312198Z"
        },
        "id": "udUvFJe3JgBs",
        "outputId": "033d5af3-6131-48f4-9dae-8102486ca84c"
      },
      "outputs": [
        {
          "name": "stdout",
          "text": "/kaggle/input/imdb-dataset-of-50k-movie-reviews/IMDB Dataset.csv\n",
          "output_type": "stream"
        }
      ],
      "execution_count": null
    },
    {
      "cell_type": "code",
      "source": [
        "import pandas as pd"
      ],
      "metadata": {
        "trusted": true,
        "execution": {
          "iopub.status.busy": "2025-03-19T14:55:38.314574Z",
          "iopub.execute_input": "2025-03-19T14:55:38.315126Z",
          "iopub.status.idle": "2025-03-19T14:55:38.319268Z",
          "shell.execute_reply.started": "2025-03-19T14:55:38.315091Z",
          "shell.execute_reply": "2025-03-19T14:55:38.318353Z"
        },
        "id": "uX2EvVuJJgBu"
      },
      "outputs": [],
      "execution_count": null
    },
    {
      "cell_type": "code",
      "source": [
        "df=pd.read_csv('/kaggle/input/imdb-dataset-of-50k-movie-reviews/IMDB Dataset.csv')"
      ],
      "metadata": {
        "trusted": true,
        "execution": {
          "iopub.status.busy": "2025-03-19T14:55:38.321213Z",
          "iopub.execute_input": "2025-03-19T14:55:38.321459Z",
          "iopub.status.idle": "2025-03-19T14:55:40.069013Z",
          "shell.execute_reply.started": "2025-03-19T14:55:38.321439Z",
          "shell.execute_reply": "2025-03-19T14:55:40.068059Z"
        },
        "id": "GyUvQMBiJgBv"
      },
      "outputs": [],
      "execution_count": null
    },
    {
      "cell_type": "code",
      "source": [
        "df.head()"
      ],
      "metadata": {
        "trusted": true,
        "execution": {
          "iopub.status.busy": "2025-03-19T14:55:40.07036Z",
          "iopub.execute_input": "2025-03-19T14:55:40.070632Z",
          "iopub.status.idle": "2025-03-19T14:55:40.098072Z",
          "shell.execute_reply.started": "2025-03-19T14:55:40.070608Z",
          "shell.execute_reply": "2025-03-19T14:55:40.097146Z"
        },
        "id": "X6RKW8OqJgBw",
        "outputId": "dc8a6138-e47c-4f11-8d9e-fd671bef8e00"
      },
      "outputs": [
        {
          "execution_count": 4,
          "output_type": "execute_result",
          "data": {
            "text/plain": "                                              review sentiment\n0  One of the other reviewers has mentioned that ...  positive\n1  A wonderful little production. <br /><br />The...  positive\n2  I thought this was a wonderful way to spend ti...  positive\n3  Basically there's a family where a little boy ...  negative\n4  Petter Mattei's \"Love in the Time of Money\" is...  positive",
            "text/html": "<div>\n<style scoped>\n    .dataframe tbody tr th:only-of-type {\n        vertical-align: middle;\n    }\n\n    .dataframe tbody tr th {\n        vertical-align: top;\n    }\n\n    .dataframe thead th {\n        text-align: right;\n    }\n</style>\n<table border=\"1\" class=\"dataframe\">\n  <thead>\n    <tr style=\"text-align: right;\">\n      <th></th>\n      <th>review</th>\n      <th>sentiment</th>\n    </tr>\n  </thead>\n  <tbody>\n    <tr>\n      <th>0</th>\n      <td>One of the other reviewers has mentioned that ...</td>\n      <td>positive</td>\n    </tr>\n    <tr>\n      <th>1</th>\n      <td>A wonderful little production. &lt;br /&gt;&lt;br /&gt;The...</td>\n      <td>positive</td>\n    </tr>\n    <tr>\n      <th>2</th>\n      <td>I thought this was a wonderful way to spend ti...</td>\n      <td>positive</td>\n    </tr>\n    <tr>\n      <th>3</th>\n      <td>Basically there's a family where a little boy ...</td>\n      <td>negative</td>\n    </tr>\n    <tr>\n      <th>4</th>\n      <td>Petter Mattei's \"Love in the Time of Money\" is...</td>\n      <td>positive</td>\n    </tr>\n  </tbody>\n</table>\n</div>"
          },
          "metadata": {}
        }
      ],
      "execution_count": null
    },
    {
      "cell_type": "code",
      "source": [
        "# lower casing\n"
      ],
      "metadata": {
        "trusted": true,
        "execution": {
          "iopub.status.busy": "2025-03-19T14:55:40.099248Z",
          "iopub.execute_input": "2025-03-19T14:55:40.099601Z",
          "iopub.status.idle": "2025-03-19T14:55:40.1032Z",
          "shell.execute_reply.started": "2025-03-19T14:55:40.099575Z",
          "shell.execute_reply": "2025-03-19T14:55:40.102205Z"
        },
        "id": "r9807FpVJgBx"
      },
      "outputs": [],
      "execution_count": null
    },
    {
      "cell_type": "code",
      "source": [
        "df['review'].str.lower()"
      ],
      "metadata": {
        "trusted": true,
        "execution": {
          "iopub.status.busy": "2025-03-19T14:55:40.104256Z",
          "iopub.execute_input": "2025-03-19T14:55:40.104506Z",
          "iopub.status.idle": "2025-03-19T14:55:40.265168Z",
          "shell.execute_reply.started": "2025-03-19T14:55:40.104476Z",
          "shell.execute_reply": "2025-03-19T14:55:40.264238Z"
        },
        "id": "ZkKY15slJgBy",
        "outputId": "d9c73458-5be6-4661-f864-9c155f4f75c1"
      },
      "outputs": [
        {
          "execution_count": 6,
          "output_type": "execute_result",
          "data": {
            "text/plain": "0        one of the other reviewers has mentioned that ...\n1        a wonderful little production. <br /><br />the...\n2        i thought this was a wonderful way to spend ti...\n3        basically there's a family where a little boy ...\n4        petter mattei's \"love in the time of money\" is...\n                               ...                        \n49995    i thought this movie did a down right good job...\n49996    bad plot, bad dialogue, bad acting, idiotic di...\n49997    i am a catholic taught in parochial elementary...\n49998    i'm going to have to disagree with the previou...\n49999    no one expects the star trek movies to be high...\nName: review, Length: 50000, dtype: object"
          },
          "metadata": {}
        }
      ],
      "execution_count": null
    },
    {
      "cell_type": "code",
      "source": [
        "df['review']=df['review'].str.lower()"
      ],
      "metadata": {
        "trusted": true,
        "execution": {
          "iopub.status.busy": "2025-03-19T14:55:40.266163Z",
          "iopub.execute_input": "2025-03-19T14:55:40.266531Z",
          "iopub.status.idle": "2025-03-19T14:55:40.433093Z",
          "shell.execute_reply.started": "2025-03-19T14:55:40.266497Z",
          "shell.execute_reply": "2025-03-19T14:55:40.43212Z"
        },
        "id": "zh9qzDmwJgBz"
      },
      "outputs": [],
      "execution_count": null
    },
    {
      "cell_type": "code",
      "source": [
        "df.head()"
      ],
      "metadata": {
        "trusted": true,
        "execution": {
          "iopub.status.busy": "2025-03-19T14:55:40.436186Z",
          "iopub.execute_input": "2025-03-19T14:55:40.436448Z",
          "iopub.status.idle": "2025-03-19T14:55:40.445774Z",
          "shell.execute_reply.started": "2025-03-19T14:55:40.436427Z",
          "shell.execute_reply": "2025-03-19T14:55:40.444766Z"
        },
        "id": "X80M4zT4JgB0",
        "outputId": "f6cbd029-40a0-4f25-e5ff-a95624cd3ddb"
      },
      "outputs": [
        {
          "execution_count": 8,
          "output_type": "execute_result",
          "data": {
            "text/plain": "                                              review sentiment\n0  one of the other reviewers has mentioned that ...  positive\n1  a wonderful little production. <br /><br />the...  positive\n2  i thought this was a wonderful way to spend ti...  positive\n3  basically there's a family where a little boy ...  negative\n4  petter mattei's \"love in the time of money\" is...  positive",
            "text/html": "<div>\n<style scoped>\n    .dataframe tbody tr th:only-of-type {\n        vertical-align: middle;\n    }\n\n    .dataframe tbody tr th {\n        vertical-align: top;\n    }\n\n    .dataframe thead th {\n        text-align: right;\n    }\n</style>\n<table border=\"1\" class=\"dataframe\">\n  <thead>\n    <tr style=\"text-align: right;\">\n      <th></th>\n      <th>review</th>\n      <th>sentiment</th>\n    </tr>\n  </thead>\n  <tbody>\n    <tr>\n      <th>0</th>\n      <td>one of the other reviewers has mentioned that ...</td>\n      <td>positive</td>\n    </tr>\n    <tr>\n      <th>1</th>\n      <td>a wonderful little production. &lt;br /&gt;&lt;br /&gt;the...</td>\n      <td>positive</td>\n    </tr>\n    <tr>\n      <th>2</th>\n      <td>i thought this was a wonderful way to spend ti...</td>\n      <td>positive</td>\n    </tr>\n    <tr>\n      <th>3</th>\n      <td>basically there's a family where a little boy ...</td>\n      <td>negative</td>\n    </tr>\n    <tr>\n      <th>4</th>\n      <td>petter mattei's \"love in the time of money\" is...</td>\n      <td>positive</td>\n    </tr>\n  </tbody>\n</table>\n</div>"
          },
          "metadata": {}
        }
      ],
      "execution_count": null
    },
    {
      "cell_type": "code",
      "source": [
        " #removing HTML Tags\n"
      ],
      "metadata": {
        "trusted": true,
        "execution": {
          "iopub.status.busy": "2025-03-19T14:55:40.447753Z",
          "iopub.execute_input": "2025-03-19T14:55:40.448116Z",
          "iopub.status.idle": "2025-03-19T14:55:40.462646Z",
          "shell.execute_reply.started": "2025-03-19T14:55:40.448081Z",
          "shell.execute_reply": "2025-03-19T14:55:40.461605Z"
        },
        "id": "DJ8JF4sbJgB1"
      },
      "outputs": [],
      "execution_count": null
    },
    {
      "cell_type": "code",
      "source": [
        "import re\n",
        "def remove_html(text):\n",
        "    pattern=re.compile('<.*?>')\n",
        "    return pattern.sub(r'',text)"
      ],
      "metadata": {
        "trusted": true,
        "execution": {
          "iopub.status.busy": "2025-03-19T14:55:40.463644Z",
          "iopub.execute_input": "2025-03-19T14:55:40.464014Z",
          "iopub.status.idle": "2025-03-19T14:55:40.47928Z",
          "shell.execute_reply.started": "2025-03-19T14:55:40.46398Z",
          "shell.execute_reply": "2025-03-19T14:55:40.478378Z"
        },
        "id": "pcqn5afRJgB2"
      },
      "outputs": [],
      "execution_count": null
    },
    {
      "cell_type": "code",
      "source": [
        "remove_html(df['review'][3])"
      ],
      "metadata": {
        "trusted": true,
        "execution": {
          "iopub.status.busy": "2025-03-19T14:55:40.480362Z",
          "iopub.execute_input": "2025-03-19T14:55:40.4807Z",
          "iopub.status.idle": "2025-03-19T14:55:40.501439Z",
          "shell.execute_reply.started": "2025-03-19T14:55:40.480669Z",
          "shell.execute_reply": "2025-03-19T14:55:40.500339Z"
        },
        "id": "kF5Hi8WdJgB2",
        "outputId": "d85b26c7-17d8-48c1-a479-544b7c2ac44e"
      },
      "outputs": [
        {
          "execution_count": 11,
          "output_type": "execute_result",
          "data": {
            "text/plain": "\"basically there's a family where a little boy (jake) thinks there's a zombie in his closet & his parents are fighting all the time.this movie is slower than a soap opera... and suddenly, jake decides to become rambo and kill the zombie.ok, first of all when you're going to make a film you must decide if its a thriller or a drama! as a drama the movie is watchable. parents are divorcing & arguing like in real life. and then we have jake with his closet which totally ruins all the film! i expected to see a boogeyman similar movie, and instead i watched a drama with some meaningless thriller spots.3 out of 10 just for the well playing parents & descent dialogs. as for the shots with jake: just ignore them.\""
          },
          "metadata": {}
        }
      ],
      "execution_count": null
    },
    {
      "cell_type": "code",
      "source": [
        "df['review']=df['review'].apply(remove_html)"
      ],
      "metadata": {
        "trusted": true,
        "execution": {
          "iopub.status.busy": "2025-03-19T14:55:40.502512Z",
          "iopub.execute_input": "2025-03-19T14:55:40.50308Z",
          "iopub.status.idle": "2025-03-19T14:55:40.765512Z",
          "shell.execute_reply.started": "2025-03-19T14:55:40.503044Z",
          "shell.execute_reply": "2025-03-19T14:55:40.764423Z"
        },
        "id": "hncCDloXJgB3"
      },
      "outputs": [],
      "execution_count": null
    },
    {
      "cell_type": "code",
      "source": [
        "# removing links\n",
        "t1='Check out my notebook https://www.kaggle.com/campus/notebook8238484'\n",
        "t2='Check out my notebook http://wwww.kaggle.com/campusx/notebook82fc'\n",
        "t3='Google search here www.google.com'\n",
        "t4='for notebook click https://www.kaggle.com/campusx/notebook8223fc to search check www.google.com'"
      ],
      "metadata": {
        "trusted": true,
        "execution": {
          "iopub.status.busy": "2025-03-19T14:55:40.766745Z",
          "iopub.execute_input": "2025-03-19T14:55:40.767093Z",
          "iopub.status.idle": "2025-03-19T14:55:40.77172Z",
          "shell.execute_reply.started": "2025-03-19T14:55:40.767063Z",
          "shell.execute_reply": "2025-03-19T14:55:40.77074Z"
        },
        "id": "TX4OF3BFJgB3"
      },
      "outputs": [],
      "execution_count": null
    },
    {
      "cell_type": "code",
      "source": [
        "def remove_links(text):\n",
        "    url_pattern = r\"https?://\\S+|www\\.\\S+\"\n",
        "    return re.sub(url_pattern, \"\", text)"
      ],
      "metadata": {
        "trusted": true,
        "execution": {
          "iopub.status.busy": "2025-03-19T14:55:40.772384Z",
          "iopub.execute_input": "2025-03-19T14:55:40.772674Z",
          "iopub.status.idle": "2025-03-19T14:55:40.788922Z",
          "shell.execute_reply.started": "2025-03-19T14:55:40.772646Z",
          "shell.execute_reply": "2025-03-19T14:55:40.787953Z"
        },
        "id": "Udgvd3LAJgB3"
      },
      "outputs": [],
      "execution_count": null
    },
    {
      "cell_type": "code",
      "source": [
        "remove_links(t4)"
      ],
      "metadata": {
        "trusted": true,
        "execution": {
          "iopub.status.busy": "2025-03-19T14:55:40.789859Z",
          "iopub.execute_input": "2025-03-19T14:55:40.790173Z",
          "iopub.status.idle": "2025-03-19T14:55:40.808288Z",
          "shell.execute_reply.started": "2025-03-19T14:55:40.790147Z",
          "shell.execute_reply": "2025-03-19T14:55:40.807217Z"
        },
        "id": "UA-t1txXJgB4",
        "outputId": "061f173c-4ae9-4153-c607-54477901717f"
      },
      "outputs": [
        {
          "execution_count": 15,
          "output_type": "execute_result",
          "data": {
            "text/plain": "'for notebook click  to search check '"
          },
          "metadata": {}
        }
      ],
      "execution_count": null
    },
    {
      "cell_type": "code",
      "source": [
        "# removing punctuation\n",
        "import string\n",
        "string.punctuation"
      ],
      "metadata": {
        "trusted": true,
        "execution": {
          "iopub.status.busy": "2025-03-19T14:55:40.809449Z",
          "iopub.execute_input": "2025-03-19T14:55:40.809823Z",
          "iopub.status.idle": "2025-03-19T14:55:40.828233Z",
          "shell.execute_reply.started": "2025-03-19T14:55:40.809771Z",
          "shell.execute_reply": "2025-03-19T14:55:40.826105Z"
        },
        "id": "QLxGQk4EJgB4",
        "outputId": "b8b30f9c-96de-440b-d443-fabe0723d224"
      },
      "outputs": [
        {
          "execution_count": 16,
          "output_type": "execute_result",
          "data": {
            "text/plain": "'!\"#$%&\\'()*+,-./:;<=>?@[\\\\]^_`{|}~'"
          },
          "metadata": {}
        }
      ],
      "execution_count": null
    },
    {
      "cell_type": "code",
      "source": [
        "p=string.punctuation"
      ],
      "metadata": {
        "trusted": true,
        "execution": {
          "iopub.status.busy": "2025-03-19T14:55:40.829422Z",
          "iopub.execute_input": "2025-03-19T14:55:40.829816Z",
          "iopub.status.idle": "2025-03-19T14:55:40.842601Z",
          "shell.execute_reply.started": "2025-03-19T14:55:40.829768Z",
          "shell.execute_reply": "2025-03-19T14:55:40.841228Z"
        },
        "id": "uZNM6LqvJgB5"
      },
      "outputs": [],
      "execution_count": null
    },
    {
      "cell_type": "code",
      "source": [
        "def remove_punc(text):\n",
        "    for i in p:\n",
        "        text=text.replace(i,'')\n",
        "    return text"
      ],
      "metadata": {
        "trusted": true,
        "execution": {
          "iopub.status.busy": "2025-03-19T14:55:40.843495Z",
          "iopub.execute_input": "2025-03-19T14:55:40.843861Z",
          "iopub.status.idle": "2025-03-19T14:55:40.86135Z",
          "shell.execute_reply.started": "2025-03-19T14:55:40.843814Z",
          "shell.execute_reply": "2025-03-19T14:55:40.86022Z"
        },
        "id": "IZEmrgt6JgB5"
      },
      "outputs": [],
      "execution_count": null
    },
    {
      "cell_type": "code",
      "source": [
        "remove_punc('Dhiraj ! How are you ?')"
      ],
      "metadata": {
        "trusted": true,
        "execution": {
          "iopub.status.busy": "2025-03-19T14:55:40.862355Z",
          "iopub.execute_input": "2025-03-19T14:55:40.862692Z",
          "iopub.status.idle": "2025-03-19T14:55:40.883603Z",
          "shell.execute_reply.started": "2025-03-19T14:55:40.862659Z",
          "shell.execute_reply": "2025-03-19T14:55:40.88233Z"
        },
        "id": "DDhfs9ZDJgB5",
        "outputId": "a1cd948c-519a-47cc-9276-f1c9a0d8025d"
      },
      "outputs": [
        {
          "execution_count": 19,
          "output_type": "execute_result",
          "data": {
            "text/plain": "'Dhiraj  How are you '"
          },
          "metadata": {}
        }
      ],
      "execution_count": null
    },
    {
      "cell_type": "code",
      "source": [
        "# replcaing short cuts\n",
        "s={'hlo':'hello','omg':'oh my god','u':'you'}\n",
        "\n",
        "text='hlo are u ok'\n",
        "\n",
        "def shortt(text):\n",
        "    for i in s:\n",
        "        text=text.replace(i,s[i])\n",
        "    return text\n",
        ""
      ],
      "metadata": {
        "trusted": true,
        "execution": {
          "iopub.status.busy": "2025-03-19T14:55:40.88496Z",
          "iopub.execute_input": "2025-03-19T14:55:40.885521Z",
          "iopub.status.idle": "2025-03-19T14:55:40.915018Z",
          "shell.execute_reply.started": "2025-03-19T14:55:40.885461Z",
          "shell.execute_reply": "2025-03-19T14:55:40.913907Z"
        },
        "id": "Cwfsnoo7JgB6"
      },
      "outputs": [],
      "execution_count": null
    },
    {
      "cell_type": "code",
      "source": [
        "shortt(text)"
      ],
      "metadata": {
        "trusted": true,
        "execution": {
          "iopub.status.busy": "2025-03-19T14:55:40.916679Z",
          "iopub.execute_input": "2025-03-19T14:55:40.917139Z",
          "iopub.status.idle": "2025-03-19T14:55:40.932427Z",
          "shell.execute_reply.started": "2025-03-19T14:55:40.917102Z",
          "shell.execute_reply": "2025-03-19T14:55:40.931393Z"
        },
        "id": "-p1dxFT8JgB6",
        "outputId": "2a8fe4bb-c699-43b2-c122-1db5eb631884"
      },
      "outputs": [
        {
          "execution_count": 21,
          "output_type": "execute_result",
          "data": {
            "text/plain": "'hello are you ok'"
          },
          "metadata": {}
        }
      ],
      "execution_count": null
    },
    {
      "cell_type": "code",
      "source": [
        "# Spelling Correction\n",
        "from textblob import TextBlob\n",
        "incorrect=\"my nsme is in the lasy amnd i am data sciance studant\"\n",
        "text=TextBlob(incorrect)\n",
        "text.correct().string"
      ],
      "metadata": {
        "trusted": true,
        "execution": {
          "iopub.status.busy": "2025-03-19T14:55:40.933398Z",
          "iopub.execute_input": "2025-03-19T14:55:40.933821Z",
          "iopub.status.idle": "2025-03-19T14:55:42.330969Z",
          "shell.execute_reply.started": "2025-03-19T14:55:40.93375Z",
          "shell.execute_reply": "2025-03-19T14:55:42.330158Z"
        },
        "id": "c6rvd_huJgB6",
        "outputId": "b01d78f5-e75f-4c6d-ba02-59cdac354208"
      },
      "outputs": [
        {
          "execution_count": 22,
          "output_type": "execute_result",
          "data": {
            "text/plain": "'my name is in the last and i am data science student'"
          },
          "metadata": {}
        }
      ],
      "execution_count": null
    },
    {
      "cell_type": "code",
      "source": [
        "# removing Stop words\n",
        "from nltk.corpus import stopwords"
      ],
      "metadata": {
        "trusted": true,
        "execution": {
          "iopub.status.busy": "2025-03-19T14:55:42.334658Z",
          "iopub.execute_input": "2025-03-19T14:55:42.335071Z",
          "iopub.status.idle": "2025-03-19T14:55:42.338658Z",
          "shell.execute_reply.started": "2025-03-19T14:55:42.335046Z",
          "shell.execute_reply": "2025-03-19T14:55:42.337714Z"
        },
        "id": "tjAEgsi2JgB7"
      },
      "outputs": [],
      "execution_count": null
    },
    {
      "cell_type": "code",
      "source": [
        "stop=stopwords.words('english')"
      ],
      "metadata": {
        "trusted": true,
        "execution": {
          "iopub.status.busy": "2025-03-19T14:55:42.340067Z",
          "iopub.execute_input": "2025-03-19T14:55:42.340298Z",
          "iopub.status.idle": "2025-03-19T14:55:42.363874Z",
          "shell.execute_reply.started": "2025-03-19T14:55:42.340278Z",
          "shell.execute_reply": "2025-03-19T14:55:42.363124Z"
        },
        "id": "Cr6yVsjUJgB8"
      },
      "outputs": [],
      "execution_count": null
    },
    {
      "cell_type": "code",
      "source": [
        "text='dhiraj is data science student and he is eager to work as machine learing engineer and NLP eningeer, he is also interested in the sports'"
      ],
      "metadata": {
        "trusted": true,
        "execution": {
          "iopub.status.busy": "2025-03-19T14:55:42.36467Z",
          "iopub.execute_input": "2025-03-19T14:55:42.364978Z",
          "iopub.status.idle": "2025-03-19T14:55:42.377697Z",
          "shell.execute_reply.started": "2025-03-19T14:55:42.364955Z",
          "shell.execute_reply": "2025-03-19T14:55:42.376859Z"
        },
        "id": "MBnm0pbBJgB8"
      },
      "outputs": [],
      "execution_count": null
    },
    {
      "cell_type": "code",
      "source": [
        "def stopwordremove(text):\n",
        "    new_text=[ ]\n",
        "    for i in text.split():\n",
        "\n",
        "        if i in stop :\n",
        "            new_text.append('')\n",
        "        else:\n",
        "            new_text.append(i)\n",
        "    return \" \".join(new_text)"
      ],
      "metadata": {
        "trusted": true,
        "execution": {
          "iopub.status.busy": "2025-03-19T14:55:42.378664Z",
          "iopub.execute_input": "2025-03-19T14:55:42.379017Z",
          "iopub.status.idle": "2025-03-19T14:55:42.394396Z",
          "shell.execute_reply.started": "2025-03-19T14:55:42.378986Z",
          "shell.execute_reply": "2025-03-19T14:55:42.393633Z"
        },
        "id": "SIMPckjgJgB9"
      },
      "outputs": [],
      "execution_count": null
    },
    {
      "cell_type": "code",
      "source": [
        "stopwordremove(text)"
      ],
      "metadata": {
        "trusted": true,
        "execution": {
          "iopub.status.busy": "2025-03-19T14:55:42.395124Z",
          "iopub.execute_input": "2025-03-19T14:55:42.395363Z",
          "iopub.status.idle": "2025-03-19T14:55:42.412146Z",
          "shell.execute_reply.started": "2025-03-19T14:55:42.395342Z",
          "shell.execute_reply": "2025-03-19T14:55:42.411308Z"
        },
        "id": "xg6hVNbJJgB9",
        "outputId": "a3c0f85a-c1ca-48e0-c4a1-e7c22b908a78"
      },
      "outputs": [
        {
          "execution_count": 27,
          "output_type": "execute_result",
          "data": {
            "text/plain": "'dhiraj  data science student    eager  work  machine learing engineer  NLP eningeer,   also interested   sports'"
          },
          "metadata": {}
        }
      ],
      "execution_count": null
    },
    {
      "cell_type": "code",
      "source": [
        "# handling Emoji\n",
        "import emoji\n",
        "print(emoji.demojize('python is 🔥'))"
      ],
      "metadata": {
        "trusted": true,
        "execution": {
          "iopub.status.busy": "2025-03-19T14:55:42.413137Z",
          "iopub.execute_input": "2025-03-19T14:55:42.413475Z",
          "iopub.status.idle": "2025-03-19T14:55:42.553996Z",
          "shell.execute_reply.started": "2025-03-19T14:55:42.413441Z",
          "shell.execute_reply": "2025-03-19T14:55:42.553041Z"
        },
        "id": "_xyX-dwIJgB-",
        "outputId": "942b9bcf-e749-497c-b17e-3f1e74383535"
      },
      "outputs": [
        {
          "name": "stdout",
          "text": "python is :fire:\n",
          "output_type": "stream"
        }
      ],
      "execution_count": null
    },
    {
      "cell_type": "code",
      "source": [
        "l=['dhieh','fwfg']\n",
        "\" \".join(l)"
      ],
      "metadata": {
        "trusted": true,
        "execution": {
          "iopub.status.busy": "2025-03-19T14:55:42.554863Z",
          "iopub.execute_input": "2025-03-19T14:55:42.555121Z",
          "iopub.status.idle": "2025-03-19T14:55:42.56056Z",
          "shell.execute_reply.started": "2025-03-19T14:55:42.5551Z",
          "shell.execute_reply": "2025-03-19T14:55:42.559772Z"
        },
        "id": "SJYKCG6RJgB_",
        "outputId": "9ecba8f7-92e0-4f64-9bca-f9ccba58c12a"
      },
      "outputs": [
        {
          "execution_count": 29,
          "output_type": "execute_result",
          "data": {
            "text/plain": "'dhieh fwfg'"
          },
          "metadata": {}
        }
      ],
      "execution_count": null
    },
    {
      "cell_type": "code",
      "source": [
        "# Tokeniztion"
      ],
      "metadata": {
        "trusted": true,
        "execution": {
          "iopub.status.busy": "2025-03-19T14:55:42.561597Z",
          "iopub.execute_input": "2025-03-19T14:55:42.561938Z",
          "iopub.status.idle": "2025-03-19T14:55:42.575123Z",
          "shell.execute_reply.started": "2025-03-19T14:55:42.56191Z",
          "shell.execute_reply": "2025-03-19T14:55:42.57414Z"
        },
        "id": "vMH5QN0uJgB_"
      },
      "outputs": [],
      "execution_count": null
    },
    {
      "cell_type": "code",
      "source": [
        "#1 using split function\n",
        "l='Myself Dhiraj & i am from rc patel'\n",
        "l.split()"
      ],
      "metadata": {
        "trusted": true,
        "execution": {
          "iopub.status.busy": "2025-03-19T14:55:42.575991Z",
          "iopub.execute_input": "2025-03-19T14:55:42.576278Z",
          "iopub.status.idle": "2025-03-19T14:55:42.592376Z",
          "shell.execute_reply.started": "2025-03-19T14:55:42.576256Z",
          "shell.execute_reply": "2025-03-19T14:55:42.591573Z"
        },
        "id": "QRbpiEYNJgCA",
        "outputId": "2e4d5909-a333-49ea-8d3b-be2c820c198a"
      },
      "outputs": [
        {
          "execution_count": 31,
          "output_type": "execute_result",
          "data": {
            "text/plain": "['Myself', 'Dhiraj', '&', 'i', 'am', 'from', 'rc', 'patel']"
          },
          "metadata": {}
        }
      ],
      "execution_count": null
    },
    {
      "cell_type": "code",
      "source": [
        "# sentence tokenization\n",
        "l='Myself Dhiraj & i am from rc patel. I am eager to learn about deep learning'\n",
        "l.split('.')"
      ],
      "metadata": {
        "trusted": true,
        "execution": {
          "iopub.status.busy": "2025-03-19T14:55:42.593257Z",
          "iopub.execute_input": "2025-03-19T14:55:42.593573Z",
          "iopub.status.idle": "2025-03-19T14:55:42.608058Z",
          "shell.execute_reply.started": "2025-03-19T14:55:42.593548Z",
          "shell.execute_reply": "2025-03-19T14:55:42.607198Z"
        },
        "id": "JQPNRocDJgCA",
        "outputId": "7e2064c9-5097-441b-ab48-1b6ccceb4874"
      },
      "outputs": [
        {
          "execution_count": 32,
          "output_type": "execute_result",
          "data": {
            "text/plain": "['Myself Dhiraj & i am from rc patel',\n ' I am eager to learn about deep learning']"
          },
          "metadata": {}
        }
      ],
      "execution_count": null
    },
    {
      "cell_type": "code",
      "source": [
        "# problem with split function\n",
        "\"How can i help you?\".split()"
      ],
      "metadata": {
        "trusted": true,
        "execution": {
          "iopub.status.busy": "2025-03-19T14:55:42.608965Z",
          "iopub.execute_input": "2025-03-19T14:55:42.609297Z",
          "iopub.status.idle": "2025-03-19T14:55:42.625336Z",
          "shell.execute_reply.started": "2025-03-19T14:55:42.609264Z",
          "shell.execute_reply": "2025-03-19T14:55:42.624519Z"
        },
        "id": "FAIS2s0DJgCA",
        "outputId": "56b6def6-4987-4741-e317-8f2e8c527d60"
      },
      "outputs": [
        {
          "execution_count": 33,
          "output_type": "execute_result",
          "data": {
            "text/plain": "['How', 'can', 'i', 'help', 'you?']"
          },
          "metadata": {}
        }
      ],
      "execution_count": null
    },
    {
      "cell_type": "code",
      "source": [
        "# 2.using regular expression\n",
        "s=\"I am going to delhi!\"\n",
        "token=re.findall(\"[\\w]+\",s)\n",
        "token"
      ],
      "metadata": {
        "trusted": true,
        "execution": {
          "iopub.status.busy": "2025-03-19T14:55:42.626271Z",
          "iopub.execute_input": "2025-03-19T14:55:42.626537Z",
          "iopub.status.idle": "2025-03-19T14:55:42.642877Z",
          "shell.execute_reply.started": "2025-03-19T14:55:42.626507Z",
          "shell.execute_reply": "2025-03-19T14:55:42.642114Z"
        },
        "id": "VT3h1eE-JgCB",
        "outputId": "44504f4e-640d-4b83-f134-3073806718b1"
      },
      "outputs": [
        {
          "execution_count": 34,
          "output_type": "execute_result",
          "data": {
            "text/plain": "['I', 'am', 'going', 'to', 'delhi']"
          },
          "metadata": {}
        }
      ],
      "execution_count": null
    },
    {
      "cell_type": "code",
      "source": [
        "# 3.NLTK\n",
        "from nltk.tokenize import word_tokenize,sent_tokenize"
      ],
      "metadata": {
        "trusted": true,
        "execution": {
          "iopub.status.busy": "2025-03-19T14:55:42.643717Z",
          "iopub.execute_input": "2025-03-19T14:55:42.644025Z",
          "iopub.status.idle": "2025-03-19T14:55:42.660635Z",
          "shell.execute_reply.started": "2025-03-19T14:55:42.644002Z",
          "shell.execute_reply": "2025-03-19T14:55:42.659654Z"
        },
        "id": "UM_0dWdkJgCB"
      },
      "outputs": [],
      "execution_count": null
    },
    {
      "cell_type": "code",
      "source": [
        "word_tokenize(s)"
      ],
      "metadata": {
        "trusted": true,
        "execution": {
          "iopub.status.busy": "2025-03-19T14:55:42.661587Z",
          "iopub.execute_input": "2025-03-19T14:55:42.661948Z",
          "iopub.status.idle": "2025-03-19T14:55:42.687624Z",
          "shell.execute_reply.started": "2025-03-19T14:55:42.661913Z",
          "shell.execute_reply": "2025-03-19T14:55:42.686863Z"
        },
        "id": "AneWHX5wJgCB",
        "outputId": "92182e86-8f0c-4ed5-e879-7babeadbc189"
      },
      "outputs": [
        {
          "execution_count": 36,
          "output_type": "execute_result",
          "data": {
            "text/plain": "['I', 'am', 'going', 'to', 'delhi', '!']"
          },
          "metadata": {}
        }
      ],
      "execution_count": null
    },
    {
      "cell_type": "code",
      "source": [
        "sent_tokenize(l)"
      ],
      "metadata": {
        "trusted": true,
        "execution": {
          "iopub.status.busy": "2025-03-19T14:55:42.688494Z",
          "iopub.execute_input": "2025-03-19T14:55:42.688865Z",
          "iopub.status.idle": "2025-03-19T14:55:42.695026Z",
          "shell.execute_reply.started": "2025-03-19T14:55:42.68883Z",
          "shell.execute_reply": "2025-03-19T14:55:42.694142Z"
        },
        "id": "7SeWWdJjJgCC",
        "outputId": "0015fe87-1846-4ba4-cd58-5c9c330ac280"
      },
      "outputs": [
        {
          "execution_count": 37,
          "output_type": "execute_result",
          "data": {
            "text/plain": "['Myself Dhiraj & i am from rc patel.',\n 'I am eager to learn about deep learning']"
          },
          "metadata": {}
        }
      ],
      "execution_count": null
    },
    {
      "cell_type": "code",
      "source": [
        "#nltk failure\n",
        "word_tokenize(\"my mail is dhiraj@gmail.com\")\n"
      ],
      "metadata": {
        "trusted": true,
        "execution": {
          "iopub.status.busy": "2025-03-19T14:55:42.695924Z",
          "iopub.execute_input": "2025-03-19T14:55:42.696179Z",
          "iopub.status.idle": "2025-03-19T14:55:42.712954Z",
          "shell.execute_reply.started": "2025-03-19T14:55:42.696157Z",
          "shell.execute_reply": "2025-03-19T14:55:42.711831Z"
        },
        "id": "sTXKK51PJgCC",
        "outputId": "56002eb6-5cac-4f77-9f44-954ccfb48078"
      },
      "outputs": [
        {
          "execution_count": 38,
          "output_type": "execute_result",
          "data": {
            "text/plain": "['my', 'mail', 'is', 'dhiraj', '@', 'gmail.com']"
          },
          "metadata": {}
        }
      ],
      "execution_count": null
    },
    {
      "cell_type": "code",
      "source": [
        "word_tokenize(\"A 5KM ride cost $10.7\")"
      ],
      "metadata": {
        "trusted": true,
        "execution": {
          "iopub.status.busy": "2025-03-19T14:55:42.71416Z",
          "iopub.execute_input": "2025-03-19T14:55:42.7145Z",
          "iopub.status.idle": "2025-03-19T14:55:42.729273Z",
          "shell.execute_reply.started": "2025-03-19T14:55:42.714451Z",
          "shell.execute_reply": "2025-03-19T14:55:42.728481Z"
        },
        "id": "Qfm403K-JgCJ",
        "outputId": "fc2ba6ec-2e37-48df-aac8-6633cda41362"
      },
      "outputs": [
        {
          "execution_count": 39,
          "output_type": "execute_result",
          "data": {
            "text/plain": "['A', '5KM', 'ride', 'cost', '$', '10.7']"
          },
          "metadata": {}
        }
      ],
      "execution_count": null
    },
    {
      "cell_type": "code",
      "source": [
        "# 4.Spacy\n",
        "import spacy\n",
        "nlp=spacy.load('en_core_web_sm')"
      ],
      "metadata": {
        "trusted": true,
        "execution": {
          "iopub.status.busy": "2025-03-19T14:55:42.730264Z",
          "iopub.execute_input": "2025-03-19T14:55:42.7306Z",
          "iopub.status.idle": "2025-03-19T14:55:49.230632Z",
          "shell.execute_reply.started": "2025-03-19T14:55:42.730565Z",
          "shell.execute_reply": "2025-03-19T14:55:49.229875Z"
        },
        "id": "Q8IBl-YMJgCK"
      },
      "outputs": [],
      "execution_count": null
    },
    {
      "cell_type": "code",
      "source": [
        "for i in nlp(\"my mail is dhiraj@gmail.com\"):\n",
        "    print(i)"
      ],
      "metadata": {
        "trusted": true,
        "execution": {
          "iopub.status.busy": "2025-03-19T14:55:49.231437Z",
          "iopub.execute_input": "2025-03-19T14:55:49.231905Z",
          "iopub.status.idle": "2025-03-19T14:55:49.258202Z",
          "shell.execute_reply.started": "2025-03-19T14:55:49.23188Z",
          "shell.execute_reply": "2025-03-19T14:55:49.257261Z"
        },
        "id": "Qf2TlUl5JgCK",
        "outputId": "bd982ca4-ae9c-47f3-ac4b-6e90d8c7bf79"
      },
      "outputs": [
        {
          "name": "stdout",
          "text": "my\nmail\nis\ndhiraj@gmail.com\n",
          "output_type": "stream"
        }
      ],
      "execution_count": null
    },
    {
      "cell_type": "code",
      "source": [
        "#stemming\n",
        "from nltk.stem.porter import PorterStemmer"
      ],
      "metadata": {
        "trusted": true,
        "execution": {
          "iopub.status.busy": "2025-03-19T15:21:07.841386Z",
          "iopub.execute_input": "2025-03-19T15:21:07.84171Z",
          "iopub.status.idle": "2025-03-19T15:21:07.845806Z",
          "shell.execute_reply.started": "2025-03-19T15:21:07.841684Z",
          "shell.execute_reply": "2025-03-19T15:21:07.844761Z"
        },
        "id": "jDs809dkJgCL"
      },
      "outputs": [],
      "execution_count": null
    },
    {
      "cell_type": "code",
      "source": [
        "ps=PorterStemmer()\n",
        "def stemming(text):\n",
        "    return ' '.join([ps.stem(i) for i in text.split()])"
      ],
      "metadata": {
        "trusted": true,
        "execution": {
          "iopub.status.busy": "2025-03-19T15:24:05.0865Z",
          "iopub.execute_input": "2025-03-19T15:24:05.086865Z",
          "iopub.status.idle": "2025-03-19T15:24:05.091515Z",
          "shell.execute_reply.started": "2025-03-19T15:24:05.086834Z",
          "shell.execute_reply": "2025-03-19T15:24:05.090395Z"
        },
        "id": "KZcoW4wSJgCL"
      },
      "outputs": [],
      "execution_count": null
    },
    {
      "cell_type": "code",
      "source": [
        "stemming('I am going to school and will stop group fighting')"
      ],
      "metadata": {
        "trusted": true,
        "execution": {
          "iopub.status.busy": "2025-03-19T15:25:16.255351Z",
          "iopub.execute_input": "2025-03-19T15:25:16.255691Z",
          "iopub.status.idle": "2025-03-19T15:25:16.261275Z",
          "shell.execute_reply.started": "2025-03-19T15:25:16.255667Z",
          "shell.execute_reply": "2025-03-19T15:25:16.260283Z"
        },
        "id": "PNQK8wf_JgCM",
        "outputId": "28ffc5f7-339d-4c18-e71b-54b880987b6a"
      },
      "outputs": [
        {
          "execution_count": 50,
          "output_type": "execute_result",
          "data": {
            "text/plain": "'I am go to school and will stop group fight'"
          },
          "metadata": {}
        }
      ],
      "execution_count": null
    },
    {
      "cell_type": "code",
      "source": [
        "# lemmatization\n",
        "import nltk\n",
        "nltk.download('wordnet')\n",
        "from nltk.stem import WordNetLemmatizer\n",
        "lemma=WordNetLemmatizer()"
      ],
      "metadata": {
        "trusted": true,
        "execution": {
          "iopub.status.busy": "2025-03-19T16:03:16.019879Z",
          "iopub.execute_input": "2025-03-19T16:03:16.020208Z",
          "iopub.status.idle": "2025-03-19T16:03:16.024392Z",
          "shell.execute_reply.started": "2025-03-19T16:03:16.020183Z",
          "shell.execute_reply": "2025-03-19T16:03:16.023281Z"
        },
        "id": "R482-jXKJgCM",
        "outputId": "6b1512fd-64fd-4804-97ff-dbf5f1302ef4",
        "colab": {
          "base_uri": "https://localhost:8080/"
        }
      },
      "outputs": [
        {
          "output_type": "stream",
          "name": "stderr",
          "text": [
            "[nltk_data] Downloading package wordnet to /root/nltk_data...\n"
          ]
        }
      ],
      "execution_count": 3
    },
    {
      "cell_type": "code",
      "source": [
        "text='I am running from last 5 min for stopping that boy who is spreading water everyone'\n",
        "for i in text.split():\n",
        "    print(lemma.lemmatize(i,pos='v'))"
      ],
      "metadata": {
        "trusted": true,
        "execution": {
          "iopub.status.busy": "2025-03-19T16:03:17.609291Z",
          "iopub.execute_input": "2025-03-19T16:03:17.609653Z",
          "iopub.status.idle": "2025-03-19T16:03:17.635313Z",
          "shell.execute_reply.started": "2025-03-19T16:03:17.609607Z",
          "shell.execute_reply": "2025-03-19T16:03:17.633989Z"
        },
        "id": "AsE4rDipJgCN",
        "outputId": "a93d5eb2-e361-4821-83e7-e82dbb71b02b",
        "colab": {
          "base_uri": "https://localhost:8080/"
        }
      },
      "outputs": [
        {
          "output_type": "stream",
          "name": "stdout",
          "text": [
            "I\n",
            "be\n",
            "run\n",
            "from\n",
            "last\n",
            "5\n",
            "min\n",
            "for\n",
            "stop\n",
            "that\n",
            "boy\n",
            "who\n",
            "be\n",
            "spread\n",
            "water\n",
            "everyone\n"
          ]
        }
      ],
      "execution_count": 4
    },
    {
      "cell_type": "code",
      "source": [
        "for i in text.split():\n",
        "    print(i)"
      ],
      "metadata": {
        "trusted": true,
        "execution": {
          "iopub.status.busy": "2025-03-19T15:33:24.768747Z",
          "iopub.execute_input": "2025-03-19T15:33:24.769133Z",
          "iopub.status.idle": "2025-03-19T15:33:24.776699Z",
          "shell.execute_reply.started": "2025-03-19T15:33:24.769106Z",
          "shell.execute_reply": "2025-03-19T15:33:24.775841Z"
        },
        "id": "cc7cFQZaJgCN",
        "outputId": "f294beca-1d6a-4b59-98c6-d34333930ba6"
      },
      "outputs": [
        {
          "name": "stdout",
          "text": "I\nam\nrunning\nfrom\nlast\n5\nmin\nfor\nstopping\nthat\nboy\nwho\nis\nspreading\nwater\neveryone\n",
          "output_type": "stream"
        }
      ],
      "execution_count": null
    },
    {
      "cell_type": "code",
      "source": [
        "from nltk.stem import WordNetLemmatizer\n",
        "import nltk\n",
        "\n",
        "# Ensure required data is downloaded\n",
        "nltk.download('wordnet')\n",
        "nltk.download('omw-1.4')\n",
        "\n",
        "# Initialize lemmatizer\n",
        "lemma = WordNetLemmatizer()\n",
        "\n",
        "# Input text\n",
        "text = \"I am running from last 5 min for stopping that boy who is spreading water everywhere\"\n",
        "\n",
        "# Lemmatize each word\n",
        "lemmatized_words = [lemma.lemmatize(word, pos='v') for word in text.split()]\n",
        "print(\" \".join(lemmatized_words))\n"
      ],
      "metadata": {
        "trusted": true,
        "execution": {
          "iopub.status.busy": "2025-03-19T16:01:33.612224Z",
          "iopub.execute_input": "2025-03-19T16:01:33.612545Z",
          "iopub.status.idle": "2025-03-19T16:02:37.668675Z",
          "shell.execute_reply.started": "2025-03-19T16:01:33.612519Z",
          "shell.execute_reply": "2025-03-19T16:02:37.666868Z"
        },
        "id": "zhBpKrqTJgCN",
        "outputId": "e09c90f1-3b61-47b4-bb3a-af82711efff4"
      },
      "outputs": [
        {
          "name": "stdout",
          "text": "[nltk_data] Error loading wordnet: <urlopen error [Errno -3] Temporary\n[nltk_data]     failure in name resolution>\n[nltk_data] Error loading omw-1.4: <urlopen error [Errno -3] Temporary\n[nltk_data]     failure in name resolution>\n",
          "output_type": "stream"
        },
        {
          "traceback": [
            "\u001b[0;31m---------------------------------------------------------------------------\u001b[0m",
            "\u001b[0;31mLookupError\u001b[0m                               Traceback (most recent call last)",
            "\u001b[0;32m/usr/local/lib/python3.10/dist-packages/nltk/corpus/util.py\u001b[0m in \u001b[0;36m__load\u001b[0;34m(self)\u001b[0m\n\u001b[1;32m     79\u001b[0m             \u001b[0;32mexcept\u001b[0m \u001b[0mLookupError\u001b[0m \u001b[0;32mas\u001b[0m \u001b[0me\u001b[0m\u001b[0;34m:\u001b[0m\u001b[0;34m\u001b[0m\u001b[0;34m\u001b[0m\u001b[0m\n\u001b[0;32m---> 80\u001b[0;31m                 \u001b[0;32mtry\u001b[0m\u001b[0;34m:\u001b[0m \u001b[0mroot\u001b[0m \u001b[0;34m=\u001b[0m \u001b[0mnltk\u001b[0m\u001b[0;34m.\u001b[0m\u001b[0mdata\u001b[0m\u001b[0;34m.\u001b[0m\u001b[0mfind\u001b[0m\u001b[0;34m(\u001b[0m\u001b[0;34m'{}/{}'\u001b[0m\u001b[0;34m.\u001b[0m\u001b[0mformat\u001b[0m\u001b[0;34m(\u001b[0m\u001b[0mself\u001b[0m\u001b[0;34m.\u001b[0m\u001b[0msubdir\u001b[0m\u001b[0;34m,\u001b[0m \u001b[0mzip_name\u001b[0m\u001b[0;34m)\u001b[0m\u001b[0;34m)\u001b[0m\u001b[0;34m\u001b[0m\u001b[0;34m\u001b[0m\u001b[0m\n\u001b[0m\u001b[1;32m     81\u001b[0m                 \u001b[0;32mexcept\u001b[0m \u001b[0mLookupError\u001b[0m\u001b[0;34m:\u001b[0m \u001b[0;32mraise\u001b[0m \u001b[0me\u001b[0m\u001b[0;34m\u001b[0m\u001b[0;34m\u001b[0m\u001b[0m\n",
            "\u001b[0;32m/usr/local/lib/python3.10/dist-packages/nltk/data.py\u001b[0m in \u001b[0;36mfind\u001b[0;34m(resource_name, paths)\u001b[0m\n\u001b[1;32m    652\u001b[0m     \u001b[0mresource_not_found\u001b[0m \u001b[0;34m=\u001b[0m \u001b[0;34m'\\n%s\\n%s\\n%s'\u001b[0m \u001b[0;34m%\u001b[0m \u001b[0;34m(\u001b[0m\u001b[0msep\u001b[0m\u001b[0;34m,\u001b[0m \u001b[0mmsg\u001b[0m\u001b[0;34m,\u001b[0m \u001b[0msep\u001b[0m\u001b[0;34m)\u001b[0m\u001b[0;34m\u001b[0m\u001b[0;34m\u001b[0m\u001b[0m\n\u001b[0;32m--> 653\u001b[0;31m     \u001b[0;32mraise\u001b[0m \u001b[0mLookupError\u001b[0m\u001b[0;34m(\u001b[0m\u001b[0mresource_not_found\u001b[0m\u001b[0;34m)\u001b[0m\u001b[0;34m\u001b[0m\u001b[0;34m\u001b[0m\u001b[0m\n\u001b[0m\u001b[1;32m    654\u001b[0m \u001b[0;34m\u001b[0m\u001b[0m\n",
            "\u001b[0;31mLookupError\u001b[0m: \n**********************************************************************\n  Resource 'corpora/wordnet.zip/wordnet/.zip/' not found.  Please\n  use the NLTK Downloader to obtain the resource:  >>>\n  nltk.download()\n  Searched in:\n    - '/root/nltk_data'\n    - '/usr/share/nltk_data'\n    - '/usr/local/share/nltk_data'\n    - '/usr/lib/nltk_data'\n    - '/usr/local/lib/nltk_data'\n**********************************************************************",
            "\nDuring handling of the above exception, another exception occurred:\n",
            "\u001b[0;31mLookupError\u001b[0m                               Traceback (most recent call last)",
            "\u001b[0;32m<ipython-input-62-3bbf75bc6c0c>\u001b[0m in \u001b[0;36m<cell line: 15>\u001b[0;34m()\u001b[0m\n\u001b[1;32m     13\u001b[0m \u001b[0;34m\u001b[0m\u001b[0m\n\u001b[1;32m     14\u001b[0m \u001b[0;31m# Lemmatize each word\u001b[0m\u001b[0;34m\u001b[0m\u001b[0;34m\u001b[0m\u001b[0m\n\u001b[0;32m---> 15\u001b[0;31m \u001b[0mlemmatized_words\u001b[0m \u001b[0;34m=\u001b[0m \u001b[0;34m[\u001b[0m\u001b[0mlemma\u001b[0m\u001b[0;34m.\u001b[0m\u001b[0mlemmatize\u001b[0m\u001b[0;34m(\u001b[0m\u001b[0mword\u001b[0m\u001b[0;34m,\u001b[0m \u001b[0mpos\u001b[0m\u001b[0;34m=\u001b[0m\u001b[0;34m'v'\u001b[0m\u001b[0;34m)\u001b[0m \u001b[0;32mfor\u001b[0m \u001b[0mword\u001b[0m \u001b[0;32min\u001b[0m \u001b[0mtext\u001b[0m\u001b[0;34m.\u001b[0m\u001b[0msplit\u001b[0m\u001b[0;34m(\u001b[0m\u001b[0;34m)\u001b[0m\u001b[0;34m]\u001b[0m\u001b[0;34m\u001b[0m\u001b[0;34m\u001b[0m\u001b[0m\n\u001b[0m\u001b[1;32m     16\u001b[0m \u001b[0mprint\u001b[0m\u001b[0;34m(\u001b[0m\u001b[0;34m\" \"\u001b[0m\u001b[0;34m.\u001b[0m\u001b[0mjoin\u001b[0m\u001b[0;34m(\u001b[0m\u001b[0mlemmatized_words\u001b[0m\u001b[0;34m)\u001b[0m\u001b[0;34m)\u001b[0m\u001b[0;34m\u001b[0m\u001b[0;34m\u001b[0m\u001b[0m\n",
            "\u001b[0;32m<ipython-input-62-3bbf75bc6c0c>\u001b[0m in \u001b[0;36m<listcomp>\u001b[0;34m(.0)\u001b[0m\n\u001b[1;32m     13\u001b[0m \u001b[0;34m\u001b[0m\u001b[0m\n\u001b[1;32m     14\u001b[0m \u001b[0;31m# Lemmatize each word\u001b[0m\u001b[0;34m\u001b[0m\u001b[0;34m\u001b[0m\u001b[0m\n\u001b[0;32m---> 15\u001b[0;31m \u001b[0mlemmatized_words\u001b[0m \u001b[0;34m=\u001b[0m \u001b[0;34m[\u001b[0m\u001b[0mlemma\u001b[0m\u001b[0;34m.\u001b[0m\u001b[0mlemmatize\u001b[0m\u001b[0;34m(\u001b[0m\u001b[0mword\u001b[0m\u001b[0;34m,\u001b[0m \u001b[0mpos\u001b[0m\u001b[0;34m=\u001b[0m\u001b[0;34m'v'\u001b[0m\u001b[0;34m)\u001b[0m \u001b[0;32mfor\u001b[0m \u001b[0mword\u001b[0m \u001b[0;32min\u001b[0m \u001b[0mtext\u001b[0m\u001b[0;34m.\u001b[0m\u001b[0msplit\u001b[0m\u001b[0;34m(\u001b[0m\u001b[0;34m)\u001b[0m\u001b[0;34m]\u001b[0m\u001b[0;34m\u001b[0m\u001b[0;34m\u001b[0m\u001b[0m\n\u001b[0m\u001b[1;32m     16\u001b[0m \u001b[0mprint\u001b[0m\u001b[0;34m(\u001b[0m\u001b[0;34m\" \"\u001b[0m\u001b[0;34m.\u001b[0m\u001b[0mjoin\u001b[0m\u001b[0;34m(\u001b[0m\u001b[0mlemmatized_words\u001b[0m\u001b[0;34m)\u001b[0m\u001b[0;34m)\u001b[0m\u001b[0;34m\u001b[0m\u001b[0;34m\u001b[0m\u001b[0m\n",
            "\u001b[0;32m/usr/local/lib/python3.10/dist-packages/nltk/stem/wordnet.py\u001b[0m in \u001b[0;36mlemmatize\u001b[0;34m(self, word, pos)\u001b[0m\n\u001b[1;32m     38\u001b[0m \u001b[0;34m\u001b[0m\u001b[0m\n\u001b[1;32m     39\u001b[0m     \u001b[0;32mdef\u001b[0m \u001b[0mlemmatize\u001b[0m\u001b[0;34m(\u001b[0m\u001b[0mself\u001b[0m\u001b[0;34m,\u001b[0m \u001b[0mword\u001b[0m\u001b[0;34m,\u001b[0m \u001b[0mpos\u001b[0m\u001b[0;34m=\u001b[0m\u001b[0mNOUN\u001b[0m\u001b[0;34m)\u001b[0m\u001b[0;34m:\u001b[0m\u001b[0;34m\u001b[0m\u001b[0;34m\u001b[0m\u001b[0m\n\u001b[0;32m---> 40\u001b[0;31m         \u001b[0mlemmas\u001b[0m \u001b[0;34m=\u001b[0m \u001b[0mwordnet\u001b[0m\u001b[0;34m.\u001b[0m\u001b[0m_morphy\u001b[0m\u001b[0;34m(\u001b[0m\u001b[0mword\u001b[0m\u001b[0;34m,\u001b[0m \u001b[0mpos\u001b[0m\u001b[0;34m)\u001b[0m\u001b[0;34m\u001b[0m\u001b[0;34m\u001b[0m\u001b[0m\n\u001b[0m\u001b[1;32m     41\u001b[0m         \u001b[0;32mreturn\u001b[0m \u001b[0mmin\u001b[0m\u001b[0;34m(\u001b[0m\u001b[0mlemmas\u001b[0m\u001b[0;34m,\u001b[0m \u001b[0mkey\u001b[0m\u001b[0;34m=\u001b[0m\u001b[0mlen\u001b[0m\u001b[0;34m)\u001b[0m \u001b[0;32mif\u001b[0m \u001b[0mlemmas\u001b[0m \u001b[0;32melse\u001b[0m \u001b[0mword\u001b[0m\u001b[0;34m\u001b[0m\u001b[0;34m\u001b[0m\u001b[0m\n\u001b[1;32m     42\u001b[0m \u001b[0;34m\u001b[0m\u001b[0m\n",
            "\u001b[0;32m/usr/local/lib/python3.10/dist-packages/nltk/corpus/util.py\u001b[0m in \u001b[0;36m__getattr__\u001b[0;34m(self, attr)\u001b[0m\n\u001b[1;32m    114\u001b[0m             \u001b[0;32mraise\u001b[0m \u001b[0mAttributeError\u001b[0m\u001b[0;34m(\u001b[0m\u001b[0;34m\"LazyCorpusLoader object has no attribute '__bases__'\"\u001b[0m\u001b[0;34m)\u001b[0m\u001b[0;34m\u001b[0m\u001b[0;34m\u001b[0m\u001b[0m\n\u001b[1;32m    115\u001b[0m \u001b[0;34m\u001b[0m\u001b[0m\n\u001b[0;32m--> 116\u001b[0;31m         \u001b[0mself\u001b[0m\u001b[0;34m.\u001b[0m\u001b[0m__load\u001b[0m\u001b[0;34m(\u001b[0m\u001b[0;34m)\u001b[0m\u001b[0;34m\u001b[0m\u001b[0;34m\u001b[0m\u001b[0m\n\u001b[0m\u001b[1;32m    117\u001b[0m         \u001b[0;31m# This looks circular, but its not, since __load() changes our\u001b[0m\u001b[0;34m\u001b[0m\u001b[0;34m\u001b[0m\u001b[0m\n\u001b[1;32m    118\u001b[0m         \u001b[0;31m# __class__ to something new:\u001b[0m\u001b[0;34m\u001b[0m\u001b[0;34m\u001b[0m\u001b[0m\n",
            "\u001b[0;32m/usr/local/lib/python3.10/dist-packages/nltk/corpus/util.py\u001b[0m in \u001b[0;36m__load\u001b[0;34m(self)\u001b[0m\n\u001b[1;32m     79\u001b[0m             \u001b[0;32mexcept\u001b[0m \u001b[0mLookupError\u001b[0m \u001b[0;32mas\u001b[0m \u001b[0me\u001b[0m\u001b[0;34m:\u001b[0m\u001b[0;34m\u001b[0m\u001b[0;34m\u001b[0m\u001b[0m\n\u001b[1;32m     80\u001b[0m                 \u001b[0;32mtry\u001b[0m\u001b[0;34m:\u001b[0m \u001b[0mroot\u001b[0m \u001b[0;34m=\u001b[0m \u001b[0mnltk\u001b[0m\u001b[0;34m.\u001b[0m\u001b[0mdata\u001b[0m\u001b[0;34m.\u001b[0m\u001b[0mfind\u001b[0m\u001b[0;34m(\u001b[0m\u001b[0;34m'{}/{}'\u001b[0m\u001b[0;34m.\u001b[0m\u001b[0mformat\u001b[0m\u001b[0;34m(\u001b[0m\u001b[0mself\u001b[0m\u001b[0;34m.\u001b[0m\u001b[0msubdir\u001b[0m\u001b[0;34m,\u001b[0m \u001b[0mzip_name\u001b[0m\u001b[0;34m)\u001b[0m\u001b[0;34m)\u001b[0m\u001b[0;34m\u001b[0m\u001b[0;34m\u001b[0m\u001b[0m\n\u001b[0;32m---> 81\u001b[0;31m                 \u001b[0;32mexcept\u001b[0m \u001b[0mLookupError\u001b[0m\u001b[0;34m:\u001b[0m \u001b[0;32mraise\u001b[0m \u001b[0me\u001b[0m\u001b[0;34m\u001b[0m\u001b[0;34m\u001b[0m\u001b[0m\n\u001b[0m\u001b[1;32m     82\u001b[0m \u001b[0;34m\u001b[0m\u001b[0m\n\u001b[1;32m     83\u001b[0m         \u001b[0;31m# Load the corpus.\u001b[0m\u001b[0;34m\u001b[0m\u001b[0;34m\u001b[0m\u001b[0m\n",
            "\u001b[0;32m/usr/local/lib/python3.10/dist-packages/nltk/corpus/util.py\u001b[0m in \u001b[0;36m__load\u001b[0;34m(self)\u001b[0m\n\u001b[1;32m     76\u001b[0m         \u001b[0;32melse\u001b[0m\u001b[0;34m:\u001b[0m\u001b[0;34m\u001b[0m\u001b[0;34m\u001b[0m\u001b[0m\n\u001b[1;32m     77\u001b[0m             \u001b[0;32mtry\u001b[0m\u001b[0;34m:\u001b[0m\u001b[0;34m\u001b[0m\u001b[0;34m\u001b[0m\u001b[0m\n\u001b[0;32m---> 78\u001b[0;31m                 \u001b[0mroot\u001b[0m \u001b[0;34m=\u001b[0m \u001b[0mnltk\u001b[0m\u001b[0;34m.\u001b[0m\u001b[0mdata\u001b[0m\u001b[0;34m.\u001b[0m\u001b[0mfind\u001b[0m\u001b[0;34m(\u001b[0m\u001b[0;34m'{}/{}'\u001b[0m\u001b[0;34m.\u001b[0m\u001b[0mformat\u001b[0m\u001b[0;34m(\u001b[0m\u001b[0mself\u001b[0m\u001b[0;34m.\u001b[0m\u001b[0msubdir\u001b[0m\u001b[0;34m,\u001b[0m \u001b[0mself\u001b[0m\u001b[0;34m.\u001b[0m\u001b[0m__name\u001b[0m\u001b[0;34m)\u001b[0m\u001b[0;34m)\u001b[0m\u001b[0;34m\u001b[0m\u001b[0;34m\u001b[0m\u001b[0m\n\u001b[0m\u001b[1;32m     79\u001b[0m             \u001b[0;32mexcept\u001b[0m \u001b[0mLookupError\u001b[0m \u001b[0;32mas\u001b[0m \u001b[0me\u001b[0m\u001b[0;34m:\u001b[0m\u001b[0;34m\u001b[0m\u001b[0;34m\u001b[0m\u001b[0m\n\u001b[1;32m     80\u001b[0m                 \u001b[0;32mtry\u001b[0m\u001b[0;34m:\u001b[0m \u001b[0mroot\u001b[0m \u001b[0;34m=\u001b[0m \u001b[0mnltk\u001b[0m\u001b[0;34m.\u001b[0m\u001b[0mdata\u001b[0m\u001b[0;34m.\u001b[0m\u001b[0mfind\u001b[0m\u001b[0;34m(\u001b[0m\u001b[0;34m'{}/{}'\u001b[0m\u001b[0;34m.\u001b[0m\u001b[0mformat\u001b[0m\u001b[0;34m(\u001b[0m\u001b[0mself\u001b[0m\u001b[0;34m.\u001b[0m\u001b[0msubdir\u001b[0m\u001b[0;34m,\u001b[0m \u001b[0mzip_name\u001b[0m\u001b[0;34m)\u001b[0m\u001b[0;34m)\u001b[0m\u001b[0;34m\u001b[0m\u001b[0;34m\u001b[0m\u001b[0m\n",
            "\u001b[0;32m/usr/local/lib/python3.10/dist-packages/nltk/data.py\u001b[0m in \u001b[0;36mfind\u001b[0;34m(resource_name, paths)\u001b[0m\n\u001b[1;32m    651\u001b[0m     \u001b[0msep\u001b[0m \u001b[0;34m=\u001b[0m \u001b[0;34m'*'\u001b[0m \u001b[0;34m*\u001b[0m \u001b[0;36m70\u001b[0m\u001b[0;34m\u001b[0m\u001b[0;34m\u001b[0m\u001b[0m\n\u001b[1;32m    652\u001b[0m     \u001b[0mresource_not_found\u001b[0m \u001b[0;34m=\u001b[0m \u001b[0;34m'\\n%s\\n%s\\n%s'\u001b[0m \u001b[0;34m%\u001b[0m \u001b[0;34m(\u001b[0m\u001b[0msep\u001b[0m\u001b[0;34m,\u001b[0m \u001b[0mmsg\u001b[0m\u001b[0;34m,\u001b[0m \u001b[0msep\u001b[0m\u001b[0;34m)\u001b[0m\u001b[0;34m\u001b[0m\u001b[0;34m\u001b[0m\u001b[0m\n\u001b[0;32m--> 653\u001b[0;31m     \u001b[0;32mraise\u001b[0m \u001b[0mLookupError\u001b[0m\u001b[0;34m(\u001b[0m\u001b[0mresource_not_found\u001b[0m\u001b[0;34m)\u001b[0m\u001b[0;34m\u001b[0m\u001b[0;34m\u001b[0m\u001b[0m\n\u001b[0m\u001b[1;32m    654\u001b[0m \u001b[0;34m\u001b[0m\u001b[0m\n\u001b[1;32m    655\u001b[0m \u001b[0;34m\u001b[0m\u001b[0m\n",
            "\u001b[0;31mLookupError\u001b[0m: \n**********************************************************************\n  Resource 'corpora/wordnet' not found.  Please use the NLTK\n  Downloader to obtain the resource:  >>> nltk.download()\n  Searched in:\n    - '/root/nltk_data'\n    - '/usr/share/nltk_data'\n    - '/usr/local/share/nltk_data'\n    - '/usr/lib/nltk_data'\n    - '/usr/local/lib/nltk_data'\n**********************************************************************"
          ],
          "ename": "LookupError",
          "evalue": "\n**********************************************************************\n  Resource 'corpora/wordnet' not found.  Please use the NLTK\n  Downloader to obtain the resource:  >>> nltk.download()\n  Searched in:\n    - '/root/nltk_data'\n    - '/usr/share/nltk_data'\n    - '/usr/local/share/nltk_data'\n    - '/usr/lib/nltk_data'\n    - '/usr/local/lib/nltk_data'\n**********************************************************************",
          "output_type": "error"
        }
      ],
      "execution_count": null
    },
    {
      "cell_type": "code",
      "source": [],
      "metadata": {
        "trusted": true,
        "id": "rERXtgruJgCO"
      },
      "outputs": [],
      "execution_count": null
    }
  ]
}